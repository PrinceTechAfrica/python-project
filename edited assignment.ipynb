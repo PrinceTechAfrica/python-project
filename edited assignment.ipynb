{
 "cells": [
  {
   "cell_type": "code",
   "execution_count": null,
   "id": "b04bfd0d",
   "metadata": {},
   "outputs": [],
   "source": [
    "#Body Mass Index is a simple calculation using a person's height and weight. The formula is BMI = kg/m2 where kg is a person's weight in kilograms and m2 is their height in metres squared. A BMI of 25.0 or more is overweight, while the healthy range is 18.5 to 24.9. BMI applies to most adults 18\n",
    "def my_function(height,weight):\n",
    "    height = float(input(\"Enter your height in Meters: \"))\n",
    "    weight = float(input(\"Enter your weight in kg: \"))\n",
    "    BMI = weight / (height)**2\n",
    "    if BMI <= 18.4:\n",
    "        print(f\"You are underweight.your BMI is:{BMI}\")\n",
    "    elif BMI <= 24.9:\n",
    "        print(f\"You are healthy.your BMI is:{BMI}\")\n",
    "    elif BMI <= 29.9:\n",
    "        print(f\"You are over weight.your BMI is:{BMI}\")\n",
    "    elif BMI <= 34.9:\n",
    "        print(f\"You are severely over weight.your BMI is:{BMI}\")\n",
    "    elif BMI <= 39.9:\n",
    "        print(f\"You are obese.your BMI is:{BMI}\")\n",
    "    else:\n",
    "        print(f\"You are severely obese.your BMI is:{BMI}\")\n",
    "my_function('height','weight')"
   ]
  },
  {
   "cell_type": "code",
   "execution_count": null,
   "id": "049bb10b",
   "metadata": {},
   "outputs": [],
   "source": [
    "import random \n",
    "num = random. randint(1, 10) \n",
    "guess = None \n",
    "while guess != num:\n",
    "    guess = input(\"guess a number between 1 and 10: \")\n",
    "    guess = int(guess) \n",
    "    if guess == num:\n",
    "        print(\"congratulations! you won!\")\n",
    "    elif guess>num:\n",
    "        print('your guess is greater than the random number generated')\n",
    "    elif guess<num:\n",
    "            print('your guess is lesser than than the Random number generated')\n",
    "    "
   ]
  },
  {
   "cell_type": "code",
   "execution_count": null,
   "id": "94892407",
   "metadata": {},
   "outputs": [],
   "source": []
  }
 ],
 "metadata": {
  "kernelspec": {
   "display_name": "Python 3 (ipykernel)",
   "language": "python",
   "name": "python3"
  },
  "language_info": {
   "codemirror_mode": {
    "name": "ipython",
    "version": 3
   },
   "file_extension": ".py",
   "mimetype": "text/x-python",
   "name": "python",
   "nbconvert_exporter": "python",
   "pygments_lexer": "ipython3",
   "version": "3.9.12"
  }
 },
 "nbformat": 4,
 "nbformat_minor": 5
}
